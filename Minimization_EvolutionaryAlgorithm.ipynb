{
  "metadata": {
    "kernelspec": {
      "name": "python",
      "display_name": "Python (Pyodide)",
      "language": "python"
    },
    "language_info": {
      "codemirror_mode": {
        "name": "python",
        "version": 3
      },
      "file_extension": ".py",
      "mimetype": "text/x-python",
      "name": "python",
      "nbconvert_exporter": "python",
      "pygments_lexer": "ipython3",
      "version": "3.8"
    }
  },
  "nbformat_minor": 5,
  "nbformat": 4,
  "cells": [
    {
      "id": "38228ad0",
      "cell_type": "markdown",
      "source": "# Task 4: Minimization using Evolutionary Algorithm\n- **Library:** SciPy (Differential Evolution as equivalent)\n- **Bounds:** -3 ≤ x ≤ 3, -3 ≤ y ≤ 3",
      "metadata": {}
    },
    {
      "id": "8a93721b",
      "cell_type": "code",
      "source": "from scipy.optimize import differential_evolution\nimport numpy as np",
      "metadata": {
        "trusted": true
      },
      "outputs": [],
      "execution_count": 1
    },
    {
      "id": "f861ac80",
      "cell_type": "code",
      "source": "def objective(X):\n    x, y = X\n    return x**2 + x*y + 2*x + y**2",
      "metadata": {
        "trusted": true
      },
      "outputs": [],
      "execution_count": 2
    },
    {
      "id": "1e7bce59",
      "cell_type": "code",
      "source": "bounds = [(-3, 3), (-3, 3)]",
      "metadata": {
        "trusted": true
      },
      "outputs": [],
      "execution_count": 3
    },
    {
      "id": "5244838c",
      "cell_type": "code",
      "source": "result = differential_evolution(objective, bounds)",
      "metadata": {
        "trusted": true
      },
      "outputs": [],
      "execution_count": 4
    },
    {
      "id": "5223d9ce",
      "cell_type": "code",
      "source": "print(\"Best solution (x, y):\", result.x)\nprint(\"Minimum value:\", result.fun)",
      "metadata": {
        "trusted": true
      },
      "outputs": [
        {
          "name": "stdout",
          "output_type": "stream",
          "text": "Best solution (x, y): [-1.3333333   0.66666664]\nMinimum value: -1.3333333333333324\n"
        }
      ],
      "execution_count": 5
    }
  ]
}