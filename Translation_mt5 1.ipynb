{
 "cells": [
  {
   "cell_type": "markdown",
   "id": "19e3a7a9",
   "metadata": {},
   "source": [
    "# Task 3: Translation\n",
    "- **Model:** bartek-2003-033/mt5-base-translator-pl-en_finetuned\n",
    "- **Text:** „W tym roku maj był chłodny”."
   ]
  },
  {
   "cell_type": "code",
   "execution_count": 1,
   "id": "0f20cdd8",
   "metadata": {},
   "outputs": [
    {
     "name": "stdout",
     "output_type": "stream",
     "text": [
      "Requirement already satisfied: transformers in c:\\users\\fatih\\desktop\\data-point-0\\data-point-0\\.venv\\lib\\site-packages (4.52.4)\n",
      "Requirement already satisfied: filelock in c:\\users\\fatih\\desktop\\data-point-0\\data-point-0\\.venv\\lib\\site-packages (from transformers) (3.18.0)\n",
      "Requirement already satisfied: huggingface-hub<1.0,>=0.30.0 in c:\\users\\fatih\\desktop\\data-point-0\\data-point-0\\.venv\\lib\\site-packages (from transformers) (0.33.0)\n",
      "Requirement already satisfied: numpy>=1.17 in c:\\users\\fatih\\desktop\\data-point-0\\data-point-0\\.venv\\lib\\site-packages (from transformers) (2.3.0)\n",
      "Requirement already satisfied: packaging>=20.0 in c:\\users\\fatih\\desktop\\data-point-0\\data-point-0\\.venv\\lib\\site-packages (from transformers) (25.0)\n",
      "Requirement already satisfied: pyyaml>=5.1 in c:\\users\\fatih\\desktop\\data-point-0\\data-point-0\\.venv\\lib\\site-packages (from transformers) (6.0.2)\n",
      "Requirement already satisfied: regex!=2019.12.17 in c:\\users\\fatih\\desktop\\data-point-0\\data-point-0\\.venv\\lib\\site-packages (from transformers) (2024.11.6)\n",
      "Requirement already satisfied: requests in c:\\users\\fatih\\desktop\\data-point-0\\data-point-0\\.venv\\lib\\site-packages (from transformers) (2.32.4)\n",
      "Requirement already satisfied: tokenizers<0.22,>=0.21 in c:\\users\\fatih\\desktop\\data-point-0\\data-point-0\\.venv\\lib\\site-packages (from transformers) (0.21.1)\n",
      "Requirement already satisfied: safetensors>=0.4.3 in c:\\users\\fatih\\desktop\\data-point-0\\data-point-0\\.venv\\lib\\site-packages (from transformers) (0.5.3)\n",
      "Requirement already satisfied: tqdm>=4.27 in c:\\users\\fatih\\desktop\\data-point-0\\data-point-0\\.venv\\lib\\site-packages (from transformers) (4.67.1)\n",
      "Requirement already satisfied: fsspec>=2023.5.0 in c:\\users\\fatih\\desktop\\data-point-0\\data-point-0\\.venv\\lib\\site-packages (from huggingface-hub<1.0,>=0.30.0->transformers) (2025.5.1)\n",
      "Requirement already satisfied: typing-extensions>=3.7.4.3 in c:\\users\\fatih\\desktop\\data-point-0\\data-point-0\\.venv\\lib\\site-packages (from huggingface-hub<1.0,>=0.30.0->transformers) (4.14.0)\n",
      "Requirement already satisfied: colorama in c:\\users\\fatih\\desktop\\data-point-0\\data-point-0\\.venv\\lib\\site-packages (from tqdm>=4.27->transformers) (0.4.6)\n",
      "Requirement already satisfied: charset_normalizer<4,>=2 in c:\\users\\fatih\\desktop\\data-point-0\\data-point-0\\.venv\\lib\\site-packages (from requests->transformers) (3.4.2)\n",
      "Requirement already satisfied: idna<4,>=2.5 in c:\\users\\fatih\\desktop\\data-point-0\\data-point-0\\.venv\\lib\\site-packages (from requests->transformers) (3.10)\n",
      "Requirement already satisfied: urllib3<3,>=1.21.1 in c:\\users\\fatih\\desktop\\data-point-0\\data-point-0\\.venv\\lib\\site-packages (from requests->transformers) (2.4.0)\n",
      "Requirement already satisfied: certifi>=2017.4.17 in c:\\users\\fatih\\desktop\\data-point-0\\data-point-0\\.venv\\lib\\site-packages (from requests->transformers) (2025.6.15)\n",
      "Note: you may need to restart the kernel to use updated packages.\n",
      "Requirement already satisfied: sentencepiece in c:\\users\\fatih\\desktop\\data-point-0\\data-point-0\\.venv\\lib\\site-packages (0.2.0)\n",
      "Requirement already satisfied: protobuf in c:\\users\\fatih\\desktop\\data-point-0\\data-point-0\\.venv\\lib\\site-packages (6.31.1)\n",
      "Requirement already satisfied: torch in c:\\users\\fatih\\desktop\\data-point-0\\data-point-0\\.venv\\lib\\site-packages (2.7.1)\n",
      "Requirement already satisfied: filelock in c:\\users\\fatih\\desktop\\data-point-0\\data-point-0\\.venv\\lib\\site-packages (from torch) (3.18.0)\n",
      "Requirement already satisfied: typing-extensions>=4.10.0 in c:\\users\\fatih\\desktop\\data-point-0\\data-point-0\\.venv\\lib\\site-packages (from torch) (4.14.0)\n",
      "Requirement already satisfied: sympy>=1.13.3 in c:\\users\\fatih\\desktop\\data-point-0\\data-point-0\\.venv\\lib\\site-packages (from torch) (1.14.0)\n",
      "Requirement already satisfied: networkx in c:\\users\\fatih\\desktop\\data-point-0\\data-point-0\\.venv\\lib\\site-packages (from torch) (3.5)\n",
      "Requirement already satisfied: jinja2 in c:\\users\\fatih\\desktop\\data-point-0\\data-point-0\\.venv\\lib\\site-packages (from torch) (3.1.6)\n",
      "Requirement already satisfied: fsspec in c:\\users\\fatih\\desktop\\data-point-0\\data-point-0\\.venv\\lib\\site-packages (from torch) (2025.5.1)\n",
      "Requirement already satisfied: mpmath<1.4,>=1.1.0 in c:\\users\\fatih\\desktop\\data-point-0\\data-point-0\\.venv\\lib\\site-packages (from sympy>=1.13.3->torch) (1.3.0)\n",
      "Requirement already satisfied: MarkupSafe>=2.0 in c:\\users\\fatih\\desktop\\data-point-0\\data-point-0\\.venv\\lib\\site-packages (from jinja2->torch) (3.0.2)\n",
      "Note: you may need to restart the kernel to use updated packages.\n"
     ]
    },
    {
     "name": "stderr",
     "output_type": "stream",
     "text": [
      "c:\\Users\\fatih\\Desktop\\Data-Point-0\\Data-Point-0\\.venv\\Lib\\site-packages\\tqdm\\auto.py:21: TqdmWarning: IProgress not found. Please update jupyter and ipywidgets. See https://ipywidgets.readthedocs.io/en/stable/user_install.html\n",
      "  from .autonotebook import tqdm as notebook_tqdm\n"
     ]
    },
    {
     "name": "stdout",
     "output_type": "stream",
     "text": [
      "0.2.0\n"
     ]
    }
   ],
   "source": [
    "%pip install transformers\n",
    "%pip install sentencepiece protobuf torch\n",
    "from transformers import AutoTokenizer, AutoModelForSeq2SeqLM\n",
    "import sentencepiece\n",
    "print(sentencepiece.__version__)"
   ]
  },
  {
   "cell_type": "code",
   "execution_count": 2,
   "id": "cdc6a2cb",
   "metadata": {},
   "outputs": [
    {
     "name": "stderr",
     "output_type": "stream",
     "text": [
      "You set `add_prefix_space`. The tokenizer needs to be converted from the slow tokenizers\n",
      "c:\\Users\\fatih\\Desktop\\Data-Point-0\\Data-Point-0\\.venv\\Lib\\site-packages\\transformers\\convert_slow_tokenizer.py:564: UserWarning: The sentencepiece tokenizer that you are converting to a fast tokenizer uses the byte fallback option which is not implemented in the fast tokenizers. In practice this means that the fast version of the tokenizer can produce unknown tokens whereas the sentencepiece version would have converted these unknown tokens into a sequence of byte tokens matching the original piece of text.\n",
      "  warnings.warn(\n",
      "c:\\Users\\fatih\\Desktop\\Data-Point-0\\Data-Point-0\\.venv\\Lib\\site-packages\\huggingface_hub\\file_download.py:143: UserWarning: `huggingface_hub` cache-system uses symlinks by default to efficiently store duplicated files but your machine does not support them in C:\\Users\\fatih\\.cache\\huggingface\\hub\\models--bartek-2003-033--mt5-base-translator-pl-en_finetuned. Caching files will still work but in a degraded version that might require more space on your disk. This warning can be disabled by setting the `HF_HUB_DISABLE_SYMLINKS_WARNING` environment variable. For more details, see https://huggingface.co/docs/huggingface_hub/how-to-cache#limitations.\n",
      "To support symlinks on Windows, you either need to activate Developer Mode or to run Python as an administrator. In order to activate developer mode, see this article: https://docs.microsoft.com/en-us/windows/apps/get-started/enable-your-device-for-development\n",
      "  warnings.warn(message)\n"
     ]
    }
   ],
   "source": [
    "model_name = \"bartek-2003-033/mt5-base-translator-pl-en_finetuned\"\n",
    "tokenizer = AutoTokenizer.from_pretrained(model_name)\n",
    "model = AutoModelForSeq2SeqLM.from_pretrained(model_name)"
   ]
  },
  {
   "cell_type": "code",
   "execution_count": 3,
   "id": "a5398ec0",
   "metadata": {},
   "outputs": [
    {
     "name": "stdout",
     "output_type": "stream",
     "text": [
      "Original: W tym roku maj był chłodny.\n",
      "Translated: This year, May was cold.\n"
     ]
    }
   ],
   "source": [
    "text = \"W tym roku maj był chłodny.\"\n",
    "\n",
    "inputs = tokenizer(text, return_tensors=\"pt\")\n",
    "outputs = model.generate(**inputs)\n",
    "translation = tokenizer.decode(outputs[0], skip_special_tokens=True)\n",
    "\n",
    "print(\"Original:\", text)\n",
    "print(\"Translated:\", translation)"
   ]
  }
 ],
 "metadata": {
  "kernelspec": {
   "display_name": ".venv",
   "language": "python",
   "name": "python3"
  },
  "language_info": {
   "codemirror_mode": {
    "name": "ipython",
    "version": 3
   },
   "file_extension": ".py",
   "mimetype": "text/x-python",
   "name": "python",
   "nbconvert_exporter": "python",
   "pygments_lexer": "ipython3",
   "version": "3.11.6"
  }
 },
 "nbformat": 4,
 "nbformat_minor": 5
}
